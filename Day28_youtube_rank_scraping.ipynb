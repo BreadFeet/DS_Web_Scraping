{
 "cells": [
  {
   "cell_type": "markdown",
   "metadata": {},
   "source": [
    "## Youtube Ranking Scraping\n",
    "https://youtube-rank.com/board/?mid=home"
   ]
  },
  {
   "cell_type": "code",
   "execution_count": 1,
   "metadata": {},
   "outputs": [],
   "source": [
    "from selenium import webdriver\n",
    "from bs4 import BeautifulSoup as BS\n",
    "import pandas as pd"
   ]
  },
  {
   "cell_type": "code",
   "execution_count": 14,
   "metadata": {},
   "outputs": [],
   "source": [
    "browser = webdriver.Chrome()\n",
    "browser.get('https://youtube-rank.com/board/bbs/board.php?bo_table=youtube')\n",
    "page = browser.page_source"
   ]
  },
  {
   "cell_type": "code",
   "execution_count": 15,
   "metadata": {},
   "outputs": [],
   "source": [
    "soup = BS(page, 'html.parser')"
   ]
  },
  {
   "cell_type": "code",
   "execution_count": 17,
   "metadata": {
    "scrolled": true
   },
   "outputs": [
    {
     "data": {
      "text/plain": [
       "(100,\n",
       " <tr class=\"aos-init\" data-aos=\"fade-up\" data-aos-duration=\"800\">\n",
       " <td class=\"rank\">\n",
       "                         1                    </td>\n",
       " <td class=\"td_img\">\n",
       " <div class=\"info_img\"><a href=\"https://youtube-rank.com/board/bbs/board.php?bo_table=youtube&amp;wr_id=3203\"><img class=\"lazyload\" data-src=\"https://yt3.ggpht.com/ytc/AKedOLTat8_vr7h2i29n67lvNLMp1F-9Ch2ejFRlRzt0zQ=s88-c-k-c0x00ffffff-no-rj-mo\" height=\"88\" src=\"https://yt3.ggpht.com/ytc/AKedOLTat8_vr7h2i29n67lvNLMp1F-9Ch2ejFRlRzt0zQ=s88-c-k-c0x00ffffff-no-rj-mo\" width=\"88\"/></a></div>\n",
       " <p class=\"info_rank\">1</p>\n",
       " </td>\n",
       " <td class=\"subject\">\n",
       " <h1>\n",
       " <p <a=\"\" class=\"category\" href=\"https://youtube-rank.com/board/bbs/board.php?bo_table=youtube&amp;sca=%EC%9D%8C%EC%95%85%2F%EB%8C%84%EC%8A%A4%2F%EA%B0%80%EC%88%98\">[음악/댄스/가수]\n",
       "                                 \n",
       "                                 </p>\n",
       " <a href=\"https://youtube-rank.com/board/bbs/board.php?bo_table=youtube&amp;wr_id=3203\">\n",
       " \t\t\t\t\t\t\t\t\n",
       " \t\t\t\t\t\t\t\tBLACKPINK\t\t\t\t\t\t\t</a>\n",
       " <span>\n",
       " <i class=\"fa fa-comment\"></i>\n",
       " \t\t\t\t\t\t\t\t1\t\t\t\t\t\t\t</span>\n",
       " <i aria-hidden=\"true\" class=\"fa fa-heart\"></i> </h1>\n",
       " <h2><span><a href=\"https://youtube-rank.com/board/bbs/board.php?bo_table=youtube&amp;wr_id=3203\">\"YG Entertainment\" YG 와이지 K-pop BLACKPINK 블랙핑크 블핑 제니 로제 리사 지수 Lisa Jisoo Jennie ...</a></span></h2>\n",
       " <h3>\n",
       " <i class=\"fa fa-user\"></i>\n",
       "                             6240만<i class=\"fa fa-play\"></i>182억0966만                            <i class=\"fa fa-video-camera\"></i>\n",
       "                             359                            <i class=\"fa fa-eye\"></i>\n",
       "                             13,273                        </h3>\n",
       " </td>\n",
       " <td class=\"subscriber_cnt\">6240만</td>\n",
       " <td class=\"view_cnt\">182억0966만</td>\n",
       " <td class=\"video_cnt\">359개</td>\n",
       " <td class=\"hit\">\n",
       " <strong>13,273</strong>\n",
       " <span>HIT</span>\n",
       " </td>\n",
       " </tr>)"
      ]
     },
     "execution_count": 17,
     "metadata": {},
     "output_type": "execute_result"
    }
   ],
   "source": [
    "# 원하는 정보(category, channel)를 한번에 다 담는 selector를 찾아옴\n",
    "tags = soup.select('tr.aos-init')\n",
    "len(tags), tags[0]                         # tags가 실제 chrome에서 보이는 태그 구성과 약간 다르다!!! (double-check 필요)"
   ]
  },
  {
   "cell_type": "code",
   "execution_count": 21,
   "metadata": {
    "collapsed": true
   },
   "outputs": [
    {
     "data": {
      "text/plain": [
       "(100,\n",
       " [['[음악/댄스/가수]', 'BLACKPINK'],\n",
       "  ['[음악/댄스/가수]', 'HYBE LABELS'],\n",
       "  ['[음악/댄스/가수]', 'BANGTANTV'],\n",
       "  ['[음악/댄스/가수]', 'SMTOWN'],\n",
       "  ['[키즈/어린이]', 'Boram Tube Vlog [보람튜브 브이로그]'],\n",
       "  ['[음악/댄스/가수]', '1MILLION Dance Studio'],\n",
       "  ['[음악/댄스/가수]', '1theK (원더케이)'],\n",
       "  ['[음악/댄스/가수]', 'JYP Entertainment'],\n",
       "  ['[음악/댄스/가수]', 'Mnet K-POP'],\n",
       "  ['[음악/댄스/가수]', 'JFlaMusic'],\n",
       "  ['[TV/방송]', 'KBS WORLD TV'],\n",
       "  ['[음악/댄스/가수]', 'officialpsy'],\n",
       "  ['[음악/댄스/가수]', 'BIGBANG'],\n",
       "  ['[음식/요리/레시피]', 'Jane ASMR 제인'],\n",
       "  ['[음악/댄스/가수]', 'TWICE'],\n",
       "  ['[키즈/어린이]', 'Nao FunFun'],\n",
       "  ['[음악/댄스/가수]', 'Stone Music Entertainment'],\n",
       "  ['[키즈/어린이]', 'DuDuPopTOY'],\n",
       "  ['[TV/방송]', 'MBCkpop'],\n",
       "  ['[키즈/어린이]', '서은이야기[SeoeunStory]'],\n",
       "  ['[키즈/어린이]', '핑크퐁 (인기 동요・동화)'],\n",
       "  ['[키즈/어린이]', 'Larva TUBA'],\n",
       "  ['[키즈/어린이]', 'Toymong tv 토이몽TV'],\n",
       "  ['[음식/요리/레시피]', 'Hongyu ASMR 홍유'],\n",
       "  ['[미분류]', 'The Late Show with Stephen Colbert'],\n",
       "  ['[뉴스/정치/사회]', 'MBCentertainment'],\n",
       "  ['[음악/댄스/가수]', 'Mnet Official'],\n",
       "  ['[음악/댄스/가수]', 'iKON'],\n",
       "  ['[음악/댄스/가수]', 'EXO'],\n",
       "  ['[미분류]', 'Nintendo'],\n",
       "  ['[키즈/어린이]', 'MariAndKids'],\n",
       "  ['[TV/방송]', 'M2'],\n",
       "  ['[키즈/어린이]', 'SonicToy소닉토이'],\n",
       "  ['[음식/요리/레시피]', '[햄지]Hamzy'],\n",
       "  ['[음악/댄스/가수]', 'TOMORROW X TOGETHER OFFICIAL'],\n",
       "  ['[해외]', 'Serie A'],\n",
       "  ['[뉴스/정치/사회]', 'JTBC Entertainment'],\n",
       "  ['[음악/댄스/가수]', 'Sungha Jung'],\n",
       "  ['[음식/요리/레시피]', 'Travel Thirsty'],\n",
       "  ['[음악/댄스/가수]', 'SEVENTEEN'],\n",
       "  ['[음악/댄스/가수]', 'Stray Kids'],\n",
       "  ['[음악/댄스/가수]', 'ALL THE K-POP'],\n",
       "  ['[음악/댄스/가수]', 'YG ENTERTAINMENT'],\n",
       "  ['[음악/댄스/가수]', '이지금 [IU Official]'],\n",
       "  ['[TV/방송]', 'KBS Kpop'],\n",
       "  ['[음식/요리/레시피]', '문복희 Eat with Boki'],\n",
       "  ['[음악/댄스/가수]', 'GOT7'],\n",
       "  ['[음악/댄스/가수]', 'MAMAMOO'],\n",
       "  ['[음식/요리/레시피]', '쏘영 Ssoyoung'],\n",
       "  ['[패션/미용]', 'PONY Syndrome'],\n",
       "  ['[TV/방송]', 'tvN DRAMA'],\n",
       "  ['[TV/방송]', '스브스케이팝 / SBS KPOP'],\n",
       "  ['[회사/오피셜]', 'Samsung'],\n",
       "  ['[TV/방송]', 'SBS Entertainment'],\n",
       "  ['[키즈/어린이]', '스위트티비 SweetTV'],\n",
       "  ['[TV/방송]', 'SBS Drama'],\n",
       "  ['[음악/댄스/가수]', 'ITZY'],\n",
       "  ['[음악/댄스/가수]', '2NE1'],\n",
       "  ['[키즈/어린이]', '[장난감티비]TOYTV'],\n",
       "  ['[키즈/어린이]', '미니특공대TV'],\n",
       "  ['[키즈/어린이]', '콩순이 • 시크릿 쥬쥬 [Kongsuni • Secret Jouju]'],\n",
       "  ['[BJ/인물/연예인]', '[Awesome Haeun]어썸하은'],\n",
       "  ['[음식/요리/레시피]', \"백종원의 요리비책 Paik's Cuisine\"],\n",
       "  ['[키즈/어린이]', 'ToyMart TV'],\n",
       "  ['[음악/댄스/가수]', 'starshipTV'],\n",
       "  ['[키즈/어린이]', '베이비버스 -인기 동요・동화'],\n",
       "  ['[음악/댄스/가수]', 'BT21'],\n",
       "  ['[뉴스/정치/사회]', 'SBS NOW / SBS 공식 채널'],\n",
       "  ['[키즈/어린이]', 'TOY GUMA'],\n",
       "  ['[TV/방송]', 'KBS Entertain'],\n",
       "  ['[음식/요리/레시피]', '떵개떵'],\n",
       "  ['[음식/요리/레시피]', '야미보이 Yummyboy'],\n",
       "  ['[키즈/어린이]', '뽀로로(Pororo)'],\n",
       "  ['[음식/요리/레시피]', '하루한끼 one meal a day'],\n",
       "  ['[TV/방송]', 'MBCdrama'],\n",
       "  ['[음악/댄스/가수]', 'ASTRO 아스트로'],\n",
       "  ['[음악/댄스/가수]', 'Raon Lee'],\n",
       "  ['[키즈/어린이]', '슈슈토이 Shushu ToysReview'],\n",
       "  ['[음식/요리/레시피]', '[Dorothy]도로시'],\n",
       "  ['[음악/댄스/가수]', 'Red Velvet'],\n",
       "  ['[TV/방송]', '채널 NCT DAILY'],\n",
       "  ['[음악/댄스/가수]', 'TREASURE (트레저)'],\n",
       "  ['[음식/요리/레시피]', '푸메Fume'],\n",
       "  ['[음식/요리/레시피]', 'Cooking tree 쿠킹트리'],\n",
       "  ['[애완/반려동물]', 'SBS TV동물농장x애니멀봐'],\n",
       "  ['[키즈/어린이]', 'With Kids Playground [위드키즈 놀이터]'],\n",
       "  ['[키즈/어린이]', '로미유 스토리[Romiyu Story]'],\n",
       "  ['[TV/방송]', 'JTBC Drama'],\n",
       "  ['[음식/요리/레시피]', '까니짱 [ G-NI ]'],\n",
       "  ['[키즈/어린이]', 'Evan Kids'],\n",
       "  ['[BJ/인물/연예인]', '영국남자 Korean Englishman'],\n",
       "  ['[음악/댄스/가수]', 'NCT'],\n",
       "  ['[애완/반려동물]', '크림히어로즈'],\n",
       "  ['[BJ/인물/연예인]', '허팝Heopop'],\n",
       "  ['[BJ/인물/연예인]', '워크맨-Workman'],\n",
       "  ['[BJ/인물/연예인]', 'waveya 2011'],\n",
       "  ['[키즈/어린이]', 'Lime Tube[라임튜브]'],\n",
       "  ['[취미/라이프]', 'JaeYeol ASMR 재열'],\n",
       "  ['[음악/댄스/가수]', 'WINNER'],\n",
       "  ['[키즈/어린이]', 'Milana FamilyShow[EN]']])"
      ]
     },
     "execution_count": 21,
     "metadata": {},
     "output_type": "execute_result"
    }
   ],
   "source": [
    "# for loop\n",
    "ranks = []\n",
    "\n",
    "for tag in tags:\n",
    "    cat = tag.select('p.category')[0].text.strip()         # 위에서 불러온 html 태그가 약간 이상해서 selector는 chrome에서 찾기!\n",
    "    ch = tag.select('td.subject > h1 > a')[0].text.strip()\n",
    "    rank = [cat, ch]\n",
    "    ranks.append(rank)\n",
    "len(ranks), ranks"
   ]
  },
  {
   "cell_type": "code",
   "execution_count": 22,
   "metadata": {},
   "outputs": [
    {
     "data": {
      "text/html": [
       "<div>\n",
       "<style scoped>\n",
       "    .dataframe tbody tr th:only-of-type {\n",
       "        vertical-align: middle;\n",
       "    }\n",
       "\n",
       "    .dataframe tbody tr th {\n",
       "        vertical-align: top;\n",
       "    }\n",
       "\n",
       "    .dataframe thead th {\n",
       "        text-align: right;\n",
       "    }\n",
       "</style>\n",
       "<table border=\"1\" class=\"dataframe\">\n",
       "  <thead>\n",
       "    <tr style=\"text-align: right;\">\n",
       "      <th></th>\n",
       "      <th>Category</th>\n",
       "      <th>Channel</th>\n",
       "    </tr>\n",
       "  </thead>\n",
       "  <tbody>\n",
       "    <tr>\n",
       "      <th>1</th>\n",
       "      <td>[음악/댄스/가수]</td>\n",
       "      <td>BLACKPINK</td>\n",
       "    </tr>\n",
       "    <tr>\n",
       "      <th>2</th>\n",
       "      <td>[음악/댄스/가수]</td>\n",
       "      <td>HYBE LABELS</td>\n",
       "    </tr>\n",
       "    <tr>\n",
       "      <th>3</th>\n",
       "      <td>[음악/댄스/가수]</td>\n",
       "      <td>BANGTANTV</td>\n",
       "    </tr>\n",
       "    <tr>\n",
       "      <th>4</th>\n",
       "      <td>[음악/댄스/가수]</td>\n",
       "      <td>SMTOWN</td>\n",
       "    </tr>\n",
       "    <tr>\n",
       "      <th>5</th>\n",
       "      <td>[키즈/어린이]</td>\n",
       "      <td>Boram Tube Vlog [보람튜브 브이로그]</td>\n",
       "    </tr>\n",
       "  </tbody>\n",
       "</table>\n",
       "</div>"
      ],
      "text/plain": [
       "     Category                      Channel\n",
       "1  [음악/댄스/가수]                    BLACKPINK\n",
       "2  [음악/댄스/가수]                  HYBE LABELS\n",
       "3  [음악/댄스/가수]                    BANGTANTV\n",
       "4  [음악/댄스/가수]                       SMTOWN\n",
       "5    [키즈/어린이]  Boram Tube Vlog [보람튜브 브이로그]"
      ]
     },
     "execution_count": 22,
     "metadata": {},
     "output_type": "execute_result"
    }
   ],
   "source": [
    "# dataframe으로 만들기\n",
    "pd.DataFrame(ranks, columns=['Category', 'Channel'], index=range(1, 101)).head()"
   ]
  }
 ],
 "metadata": {
  "kernelspec": {
   "display_name": "Python 3.8.3 32-bit",
   "language": "python",
   "name": "python38332bitabebdcd8e2a1488c90932336e3af1b49"
  },
  "language_info": {
   "codemirror_mode": {
    "name": "ipython",
    "version": 3
   },
   "file_extension": ".py",
   "mimetype": "text/x-python",
   "name": "python",
   "nbconvert_exporter": "python",
   "pygments_lexer": "ipython3",
   "version": "3.8.3"
  }
 },
 "nbformat": 4,
 "nbformat_minor": 4
}
