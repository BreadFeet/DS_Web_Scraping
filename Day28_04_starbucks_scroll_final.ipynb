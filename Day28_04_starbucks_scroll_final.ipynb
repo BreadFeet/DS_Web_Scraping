{
 "cells": [
  {
   "cell_type": "markdown",
   "metadata": {},
   "source": [
    "# Starbucks Store Information Scraping"
   ]
  },
  {
   "cell_type": "code",
   "execution_count": 2,
   "metadata": {},
   "outputs": [],
   "source": [
    "from selenium import webdriver\n",
    "from bs4 import BeautifulSoup as BS\n",
    "import pandas as pd"
   ]
  },
  {
   "cell_type": "code",
   "execution_count": 29,
   "metadata": {},
   "outputs": [],
   "source": [
    "# webdriver로 browser 준비\n",
    "browser = webdriver.Chrome()\n",
    "browser.get('https://www.starbucks.co.kr/store/store_map.do?disp=locale')"
   ]
  },
  {
   "cell_type": "markdown",
   "metadata": {},
   "source": [
    "### CSS selector로 위치를 찾아서 클릭하기\n",
    " browser에서 모든 정보가 로딩된 뒤에 click해야 제대로 작동하기 때문에 sleep을 설정하는 것이 좋다. 그러나 Jupyter notebook에서는 cell이 하나씩 순차적으로 실행되니까 크게 상관이 없긴 하다. <br>\n",
    " 또는 전체를 run하는 경우, 너무 빨리 지나가버리기 때문에 sleep을 설정하면 진행을 천천히 확인할 수 있다."
   ]
  },
  {
   "cell_type": "code",
   "execution_count": 4,
   "metadata": {},
   "outputs": [],
   "source": [
    "import time\n",
    "time.sleep(5)\n",
    "browser.find_element_by_css_selector('ul.sido_arae_box > li  > a[data-sidocd=\"01\"]').click()    # '서울' 클릭"
   ]
  },
  {
   "cell_type": "code",
   "execution_count": 5,
   "metadata": {},
   "outputs": [],
   "source": [
    "time.sleep(5)\n",
    "browser.find_element_by_css_selector('ul.gugun_arae_box > li > a[href*=\"0\"][data-guguncd=\"\"]').click()   # '전체' 클릭"
   ]
  },
  {
   "cell_type": "markdown",
   "metadata": {},
   "source": [
    "위 CSS selector 중 `[href*=\"0\"]` 부분은 selector를 특정하는데 도움이 되지 않아서 필요 없음. 단지 tag attribute를 여러개 연이어 사용할 수 있다는 것을 보여주기 위해서 추가함"
   ]
  },
  {
   "cell_type": "markdown",
   "metadata": {},
   "source": [
    "### BeautifulSoup으로 매장 리스트를 읽어오기"
   ]
  },
  {
   "cell_type": "code",
   "execution_count": 9,
   "metadata": {},
   "outputs": [],
   "source": [
    "page = browser.page_source            # 현재 webdriver에 열려있는 페이지의 내용을 불러옴\n",
    "soup = BS(page, 'html.parser')"
   ]
  },
  {
   "cell_type": "code",
   "execution_count": 11,
   "metadata": {},
   "outputs": [
    {
     "data": {
      "text/plain": [
       "(554,\n",
       " <li class=\"quickResultLstCon\" data-code=\"3762\" data-hlytag=\"null\" data-index=\"0\" data-lat=\"37.501087\" data-long=\"127.043069\" data-name=\"역삼아레나빌딩\" data-storecd=\"1509\" style=\"background:#fff\"> <strong data-my_siren_order_store_yn=\"N\" data-name=\"역삼아레나빌딩\" data-store=\"1509\" data-yn=\"N\">역삼아레나빌딩  </strong> <p class=\"result_details\">서울특별시 강남구 언주로 425 (역삼동)<br/>1522-3232</p> <i class=\"pin_general\">리저브 매장 2번</i></li>)"
      ]
     },
     "execution_count": 11,
     "metadata": {},
     "output_type": "execute_result"
    }
   ],
   "source": [
    "tags = soup.select('li.quickResultLstCon')\n",
    "len(tags), tags[0]                        # 총 554개 매장"
   ]
  },
  {
   "cell_type": "code",
   "execution_count": 12,
   "metadata": {},
   "outputs": [
    {
     "data": {
      "text/plain": [
       "[['역삼아레나빌딩',\n",
       "  '서울특별시 강남구 언주로 425 (역삼동)1522-3232',\n",
       "  '37.501087',\n",
       "  '127.043069',\n",
       "  '리저브 매장 2번'],\n",
       " ['논현역사거리',\n",
       "  '서울특별시 강남구 강남대로 538 (논현동)1522-3232',\n",
       "  '37.510178',\n",
       "  '127.022223',\n",
       "  '리저브 매장 2번'],\n",
       " ['신사역성일빌딩',\n",
       "  '서울특별시 강남구 강남대로 584 (논현동)1522-3232',\n",
       "  '37.514132',\n",
       "  '127.020563',\n",
       "  '리저브 매장 2번'],\n",
       " ['국기원사거리',\n",
       "  '서울특별시 강남구 테헤란로 125 (역삼동)1522-3232',\n",
       "  '37.499517',\n",
       "  '127.031495',\n",
       "  '리저브 매장 2번'],\n",
       " ['스탈릿대치R',\n",
       "  '서울특별시 강남구 남부순환로 2947 (대치동)1522-3232',\n",
       "  '37.494668',\n",
       "  '127.062583',\n",
       "  '리저브 매장 2번']]"
      ]
     },
     "execution_count": 12,
     "metadata": {},
     "output_type": "execute_result"
    }
   ],
   "source": [
    "# 매장이름, 주소, 위도, 경도, 매장타입을 스크래핑\n",
    "starbucks = []\n",
    "\n",
    "for tag in tags:\n",
    "    name = tag['data-name']\n",
    "    add = tag.select_one('p').text\n",
    "    lat = tag['data-lat']\n",
    "    long = tag['data-long']\n",
    "    store = tag.select_one('i').text\n",
    "    starbucks.append([name, add, lat, long, store])\n",
    "\n",
    "starbucks[:5]"
   ]
  },
  {
   "cell_type": "markdown",
   "metadata": {},
   "source": [
    "### DataFrame으로 만들기"
   ]
  },
  {
   "cell_type": "code",
   "execution_count": 13,
   "metadata": {},
   "outputs": [
    {
     "data": {
      "text/html": [
       "<div>\n",
       "<style scoped>\n",
       "    .dataframe tbody tr th:only-of-type {\n",
       "        vertical-align: middle;\n",
       "    }\n",
       "\n",
       "    .dataframe tbody tr th {\n",
       "        vertical-align: top;\n",
       "    }\n",
       "\n",
       "    .dataframe thead th {\n",
       "        text-align: right;\n",
       "    }\n",
       "</style>\n",
       "<table border=\"1\" class=\"dataframe\">\n",
       "  <thead>\n",
       "    <tr style=\"text-align: right;\">\n",
       "      <th></th>\n",
       "      <th>Store</th>\n",
       "      <th>Address</th>\n",
       "      <th>Latitude</th>\n",
       "      <th>Longitude</th>\n",
       "      <th>Type</th>\n",
       "    </tr>\n",
       "  </thead>\n",
       "  <tbody>\n",
       "    <tr>\n",
       "      <th>0</th>\n",
       "      <td>역삼아레나빌딩</td>\n",
       "      <td>서울특별시 강남구 언주로 425 (역삼동)1522-3232</td>\n",
       "      <td>37.501087</td>\n",
       "      <td>127.043069</td>\n",
       "      <td>리저브 매장 2번</td>\n",
       "    </tr>\n",
       "    <tr>\n",
       "      <th>1</th>\n",
       "      <td>논현역사거리</td>\n",
       "      <td>서울특별시 강남구 강남대로 538 (논현동)1522-3232</td>\n",
       "      <td>37.510178</td>\n",
       "      <td>127.022223</td>\n",
       "      <td>리저브 매장 2번</td>\n",
       "    </tr>\n",
       "    <tr>\n",
       "      <th>2</th>\n",
       "      <td>신사역성일빌딩</td>\n",
       "      <td>서울특별시 강남구 강남대로 584 (논현동)1522-3232</td>\n",
       "      <td>37.514132</td>\n",
       "      <td>127.020563</td>\n",
       "      <td>리저브 매장 2번</td>\n",
       "    </tr>\n",
       "    <tr>\n",
       "      <th>3</th>\n",
       "      <td>국기원사거리</td>\n",
       "      <td>서울특별시 강남구 테헤란로 125 (역삼동)1522-3232</td>\n",
       "      <td>37.499517</td>\n",
       "      <td>127.031495</td>\n",
       "      <td>리저브 매장 2번</td>\n",
       "    </tr>\n",
       "    <tr>\n",
       "      <th>4</th>\n",
       "      <td>스탈릿대치R</td>\n",
       "      <td>서울특별시 강남구 남부순환로 2947 (대치동)1522-3232</td>\n",
       "      <td>37.494668</td>\n",
       "      <td>127.062583</td>\n",
       "      <td>리저브 매장 2번</td>\n",
       "    </tr>\n",
       "  </tbody>\n",
       "</table>\n",
       "</div>"
      ],
      "text/plain": [
       "     Store                              Address   Latitude   Longitude  \\\n",
       "0  역삼아레나빌딩     서울특별시 강남구 언주로 425 (역삼동)1522-3232  37.501087  127.043069   \n",
       "1   논현역사거리    서울특별시 강남구 강남대로 538 (논현동)1522-3232  37.510178  127.022223   \n",
       "2  신사역성일빌딩    서울특별시 강남구 강남대로 584 (논현동)1522-3232  37.514132  127.020563   \n",
       "3   국기원사거리    서울특별시 강남구 테헤란로 125 (역삼동)1522-3232  37.499517  127.031495   \n",
       "4   스탈릿대치R  서울특별시 강남구 남부순환로 2947 (대치동)1522-3232  37.494668  127.062583   \n",
       "\n",
       "        Type  \n",
       "0  리저브 매장 2번  \n",
       "1  리저브 매장 2번  \n",
       "2  리저브 매장 2번  \n",
       "3  리저브 매장 2번  \n",
       "4  리저브 매장 2번  "
      ]
     },
     "execution_count": 13,
     "metadata": {},
     "output_type": "execute_result"
    }
   ],
   "source": [
    "pd.DataFrame(starbucks, columns=['Store', 'Address', 'Latitude', 'Longitude', 'Type']).head()"
   ]
  },
  {
   "cell_type": "markdown",
   "metadata": {},
   "source": [
    "---\n",
    "### 번외) WebElement object의 html source 확인하는 법\n",
    "Selenium으로 element 찾기를 마친 뒤 BeautifulSoup으로 parsing 할 수도 있다!"
   ]
  },
  {
   "cell_type": "code",
   "execution_count": 14,
   "metadata": {},
   "outputs": [
    {
     "data": {
      "text/plain": [
       "('<li class=\"quickResultLstCon\" style=\"background:#fff\" data-lat=\"37.501087\" data-long=\"127.043069\" data-index=\"0\" data-name=\"역삼아레나빌딩\" data-code=\"3762\" data-storecd=\"1509\" data-hlytag=\"null\">\\t<strong data-store=\"1509\" data-yn=\"N\" data-name=\"역삼아레나빌딩\" data-my_siren_order_store_yn=\"N\">역삼아레나빌딩  </strong>\\t<p class=\"result_details\">서울특별시 강남구 언주로 425 (역삼동)<br>1522-3232</p>\\t<i class=\"pin_general\">리저브 매장 2번</i></li>',\n",
       " str)"
      ]
     },
     "execution_count": 14,
     "metadata": {},
     "output_type": "execute_result"
    }
   ],
   "source": [
    "# outerHTML: 지정한 태그(li) 포함해서 가져옴\n",
    "# innerHTML: 지정한 태그 제외 안쪽만 가져옴\n",
    "elmt = browser.find_element_by_css_selector('li.quickResultLstCon').get_attribute('outerHTML')\n",
    "elmt, type(elmt)                  # str"
   ]
  },
  {
   "cell_type": "code",
   "execution_count": 15,
   "metadata": {},
   "outputs": [
    {
     "name": "stdout",
     "output_type": "stream",
     "text": [
      "<li class=\"quickResultLstCon\" data-code=\"3762\" data-hlytag=\"null\" data-index=\"0\" data-lat=\"37.501087\" data-long=\"127.043069\" data-name=\"역삼아레나빌딩\" data-storecd=\"1509\" style=\"background:#fff\">\n",
      " <strong data-my_siren_order_store_yn=\"N\" data-name=\"역삼아레나빌딩\" data-store=\"1509\" data-yn=\"N\">\n",
      "  역삼아레나빌딩\n",
      " </strong>\n",
      " <p class=\"result_details\">\n",
      "  서울특별시 강남구 언주로 425 (역삼동)\n",
      "  <br/>\n",
      "  1522-3232\n",
      " </p>\n",
      " <i class=\"pin_general\">\n",
      "  리저브 매장 2번\n",
      " </i>\n",
      "</li>\n"
     ]
    }
   ],
   "source": [
    "print(BS(elmt, 'html.parser').prettify())"
   ]
  },
  {
   "cell_type": "markdown",
   "metadata": {},
   "source": [
    "### Selenium만 사용해서 Starbucks 매장정보 가져오기"
   ]
  },
  {
   "cell_type": "code",
   "execution_count": 139,
   "metadata": {},
   "outputs": [],
   "source": [
    "# webdriver로 browser 준비\n",
    "browser = webdriver.Chrome()\n",
    "browser.get('https://www.starbucks.co.kr/store/store_map.do?disp=locale')"
   ]
  },
  {
   "cell_type": "code",
   "execution_count": 125,
   "metadata": {},
   "outputs": [],
   "source": [
    "import time\n",
    "time.sleep(5)\n",
    "browser.find_element_by_css_selector('ul.sido_arae_box > li  > a[data-sidocd=\"01\"]').click()    # '서울' 클릭"
   ]
  },
  {
   "cell_type": "code",
   "execution_count": 126,
   "metadata": {},
   "outputs": [],
   "source": [
    "time.sleep(5)\n",
    "browser.find_element_by_css_selector('ul.gugun_arae_box > li > a[href*=\"0\"][data-guguncd=\"\"]').click()   # '전체' 클릭"
   ]
  },
  {
   "cell_type": "code",
   "execution_count": 127,
   "metadata": {},
   "outputs": [
    {
     "data": {
      "text/plain": [
       "'<li class=\"quickResultLstCon\" style=\"background:#fff\" data-lat=\"37.501087\" data-long=\"127.043069\" data-index=\"0\" data-name=\"역삼아레나빌딩\" data-code=\"3762\" data-storecd=\"1509\" data-hlytag=\"null\">\\t<strong data-store=\"1509\" data-yn=\"N\" data-name=\"역삼아레나빌딩\" data-my_siren_order_store_yn=\"N\">역삼아레나빌딩  </strong>\\t<p class=\"result_details\">서울특별시 강남구 언주로 425 (역삼동)<br>1522-3232</p>\\t<i class=\"pin_general\">리저브 매장 2번</i></li>'"
      ]
     },
     "execution_count": 127,
     "metadata": {},
     "output_type": "execute_result"
    }
   ],
   "source": [
    "# 매장정보 모두 가져오기\n",
    "time.sleep(3)\n",
    "tags = browser.find_elements_by_css_selector('li.quickResultLstCon')\n",
    "tags[0].get_attribute('outerHTML')          # 첫번째 WebElement의 html source 확인"
   ]
  },
  {
   "cell_type": "markdown",
   "metadata": {},
   "source": [
    "#### Scrolling을 통해서 text를 불러오지 못하는 문제 해결\n",
    "아래 tag.find_element를 수행할 때, 화면에 보이는 내용(.is_displayed() == True)에 대한 text만 가져오는 문제를 해결하기 위해서 scroll down 이용 \n",
    "* **ActionChains()**: 여기서 발생하는 무한루프의 문제가 해결 안됨. `Break`, `reset_actions()`, `Keys.ESCAPE`, `또다른 ActionChains()`를 만들어 멈추게 하는것 등 모두 효과를 보지 못함\n",
    "* **.location_once_scrolled_into_view**: 아래서 사용한 방법으로 오류 없음!"
   ]
  },
  {
   "cell_type": "code",
   "execution_count": 128,
   "metadata": {},
   "outputs": [],
   "source": [
    "# Selenium은 렌더링 하느라 속도가 느림...\n",
    "stores = []\n",
    "\n",
    "for tag in tags:\n",
    "    # scroll을 통해서 일부 text를 가져오지 못하는 문제 해결\n",
    "    tag.location_once_scrolled_into_view                 # WebElement로 이동\n",
    "    \n",
    "    name = tag.get_attribute('data-name')    \n",
    "    add = tag.find_element_by_tag_name('p').text.replace('\\n', ' ') \n",
    "    lat = tag.get_attribute('data-lat')\n",
    "    long = tag.get_attribute('data-long')\n",
    "    store = tag.find_element_by_tag_name('i').text       # 위에서 스크롤 다운했기 때문에 문제 없음\n",
    "    stores.append([name, add, lat, long, store])"
   ]
  },
  {
   "cell_type": "code",
   "execution_count": 134,
   "metadata": {},
   "outputs": [
    {
     "data": {
      "text/plain": [
       "[['역삼아레나빌딩',\n",
       "  '서울특별시 강남구 언주로 425 (역삼동) 1522-3232',\n",
       "  '37.501087',\n",
       "  '127.043069',\n",
       "  '리저브 매장 2번'],\n",
       " ['논현역사거리',\n",
       "  '서울특별시 강남구 강남대로 538 (논현동) 1522-3232',\n",
       "  '37.510178',\n",
       "  '127.022223',\n",
       "  '리저브 매장 2번'],\n",
       " ['신사역성일빌딩',\n",
       "  '서울특별시 강남구 강남대로 584 (논현동) 1522-3232',\n",
       "  '37.514132',\n",
       "  '127.020563',\n",
       "  '리저브 매장 2번'],\n",
       " ['국기원사거리',\n",
       "  '서울특별시 강남구 테헤란로 125 (역삼동) 1522-3232',\n",
       "  '37.499517',\n",
       "  '127.031495',\n",
       "  '리저브 매장 2번'],\n",
       " ['스탈릿대치R',\n",
       "  '서울특별시 강남구 남부순환로 2947 (대치동) 1522-3232',\n",
       "  '37.494668',\n",
       "  '127.062583',\n",
       "  '리저브 매장 2번']]"
      ]
     },
     "execution_count": 134,
     "metadata": {},
     "output_type": "execute_result"
    }
   ],
   "source": [
    "stores[:5]"
   ]
  },
  {
   "cell_type": "code",
   "execution_count": 135,
   "metadata": {},
   "outputs": [
    {
     "data": {
      "text/html": [
       "<div>\n",
       "<style scoped>\n",
       "    .dataframe tbody tr th:only-of-type {\n",
       "        vertical-align: middle;\n",
       "    }\n",
       "\n",
       "    .dataframe tbody tr th {\n",
       "        vertical-align: top;\n",
       "    }\n",
       "\n",
       "    .dataframe thead th {\n",
       "        text-align: right;\n",
       "    }\n",
       "</style>\n",
       "<table border=\"1\" class=\"dataframe\">\n",
       "  <thead>\n",
       "    <tr style=\"text-align: right;\">\n",
       "      <th></th>\n",
       "      <th>Store</th>\n",
       "      <th>Address</th>\n",
       "      <th>Latitude</th>\n",
       "      <th>Longitude</th>\n",
       "      <th>Type</th>\n",
       "    </tr>\n",
       "  </thead>\n",
       "  <tbody>\n",
       "    <tr>\n",
       "      <th>0</th>\n",
       "      <td>역삼아레나빌딩</td>\n",
       "      <td>서울특별시 강남구 언주로 425 (역삼동) 1522-3232</td>\n",
       "      <td>37.501087</td>\n",
       "      <td>127.043069</td>\n",
       "      <td>리저브 매장 2번</td>\n",
       "    </tr>\n",
       "    <tr>\n",
       "      <th>1</th>\n",
       "      <td>논현역사거리</td>\n",
       "      <td>서울특별시 강남구 강남대로 538 (논현동) 1522-3232</td>\n",
       "      <td>37.510178</td>\n",
       "      <td>127.022223</td>\n",
       "      <td>리저브 매장 2번</td>\n",
       "    </tr>\n",
       "    <tr>\n",
       "      <th>2</th>\n",
       "      <td>신사역성일빌딩</td>\n",
       "      <td>서울특별시 강남구 강남대로 584 (논현동) 1522-3232</td>\n",
       "      <td>37.514132</td>\n",
       "      <td>127.020563</td>\n",
       "      <td>리저브 매장 2번</td>\n",
       "    </tr>\n",
       "    <tr>\n",
       "      <th>3</th>\n",
       "      <td>국기원사거리</td>\n",
       "      <td>서울특별시 강남구 테헤란로 125 (역삼동) 1522-3232</td>\n",
       "      <td>37.499517</td>\n",
       "      <td>127.031495</td>\n",
       "      <td>리저브 매장 2번</td>\n",
       "    </tr>\n",
       "    <tr>\n",
       "      <th>4</th>\n",
       "      <td>스탈릿대치R</td>\n",
       "      <td>서울특별시 강남구 남부순환로 2947 (대치동) 1522-3232</td>\n",
       "      <td>37.494668</td>\n",
       "      <td>127.062583</td>\n",
       "      <td>리저브 매장 2번</td>\n",
       "    </tr>\n",
       "    <tr>\n",
       "      <th>5</th>\n",
       "      <td>봉은사역</td>\n",
       "      <td>서울특별시 강남구 봉은사로 619 (삼성동) 1522-3232</td>\n",
       "      <td>37.515000</td>\n",
       "      <td>127.063196</td>\n",
       "      <td>리저브 매장 2번</td>\n",
       "    </tr>\n",
       "    <tr>\n",
       "      <th>6</th>\n",
       "      <td>압구정윤성빌딩</td>\n",
       "      <td>서울특별시 강남구 논현로 834 (신사동) 1522-3232</td>\n",
       "      <td>37.5227934</td>\n",
       "      <td>127.0286009</td>\n",
       "      <td>리저브 매장 2번</td>\n",
       "    </tr>\n",
       "    <tr>\n",
       "      <th>7</th>\n",
       "      <td>코엑스별마당</td>\n",
       "      <td>서울특별시 강남구 영동대로 513 (삼성동) 1522-3232</td>\n",
       "      <td>37.510150</td>\n",
       "      <td>127.060275</td>\n",
       "      <td>리저브 매장 2번</td>\n",
       "    </tr>\n",
       "    <tr>\n",
       "      <th>8</th>\n",
       "      <td>삼성역섬유센터R</td>\n",
       "      <td>서울특별시 강남구 테헤란로 518 (대치동) 1522-3232</td>\n",
       "      <td>37.507750</td>\n",
       "      <td>127.060651</td>\n",
       "      <td>리저브 매장 2번</td>\n",
       "    </tr>\n",
       "    <tr>\n",
       "      <th>9</th>\n",
       "      <td>압구정R</td>\n",
       "      <td>서울특별시 강남구 언주로 861 (신사동) 1522-3232</td>\n",
       "      <td>37.5273669</td>\n",
       "      <td>127.033061</td>\n",
       "      <td>리저브 매장 2번</td>\n",
       "    </tr>\n",
       "    <tr>\n",
       "      <th>10</th>\n",
       "      <td>수서역R</td>\n",
       "      <td>서울특별시 강남구 광평로 281 (수서동) 1522-3232</td>\n",
       "      <td>37.488008</td>\n",
       "      <td>127.102650</td>\n",
       "      <td>리저브 매장 2번</td>\n",
       "    </tr>\n",
       "    <tr>\n",
       "      <th>11</th>\n",
       "      <td>양재강남빌딩R</td>\n",
       "      <td>서울특별시 강남구 남부순환로 2621 (도곡동) 1522-3232</td>\n",
       "      <td>37.485192</td>\n",
       "      <td>127.036685</td>\n",
       "      <td>리저브 매장 2번</td>\n",
       "    </tr>\n",
       "    <tr>\n",
       "      <th>12</th>\n",
       "      <td>선릉동신빌딩R</td>\n",
       "      <td>서울특별시 강남구 테헤란로 409 (삼성동) 1522-3232</td>\n",
       "      <td>37.505321</td>\n",
       "      <td>127.050409</td>\n",
       "      <td>리저브 매장 2번</td>\n",
       "    </tr>\n",
       "    <tr>\n",
       "      <th>13</th>\n",
       "      <td>봉은사로선정릉</td>\n",
       "      <td>서울특별시 강남구 봉은사로 446 (삼성동) 1522-3232</td>\n",
       "      <td>37.511293</td>\n",
       "      <td>127.048409</td>\n",
       "      <td>리저브 매장 2번</td>\n",
       "    </tr>\n",
       "    <tr>\n",
       "      <th>14</th>\n",
       "      <td>강남오거리</td>\n",
       "      <td>서울특별시 강남구 봉은사로2길 39 (역삼동) 1522-3232</td>\n",
       "      <td>37.502117</td>\n",
       "      <td>127.026672</td>\n",
       "      <td>리저브 매장 2번</td>\n",
       "    </tr>\n",
       "  </tbody>\n",
       "</table>\n",
       "</div>"
      ],
      "text/plain": [
       "       Store                               Address    Latitude    Longitude  \\\n",
       "0    역삼아레나빌딩     서울특별시 강남구 언주로 425 (역삼동) 1522-3232   37.501087   127.043069   \n",
       "1     논현역사거리    서울특별시 강남구 강남대로 538 (논현동) 1522-3232   37.510178   127.022223   \n",
       "2    신사역성일빌딩    서울특별시 강남구 강남대로 584 (논현동) 1522-3232   37.514132   127.020563   \n",
       "3     국기원사거리    서울특별시 강남구 테헤란로 125 (역삼동) 1522-3232   37.499517   127.031495   \n",
       "4     스탈릿대치R  서울특별시 강남구 남부순환로 2947 (대치동) 1522-3232   37.494668   127.062583   \n",
       "5       봉은사역    서울특별시 강남구 봉은사로 619 (삼성동) 1522-3232   37.515000   127.063196   \n",
       "6    압구정윤성빌딩     서울특별시 강남구 논현로 834 (신사동) 1522-3232  37.5227934  127.0286009   \n",
       "7     코엑스별마당    서울특별시 강남구 영동대로 513 (삼성동) 1522-3232   37.510150   127.060275   \n",
       "8   삼성역섬유센터R    서울특별시 강남구 테헤란로 518 (대치동) 1522-3232   37.507750   127.060651   \n",
       "9       압구정R     서울특별시 강남구 언주로 861 (신사동) 1522-3232  37.5273669   127.033061   \n",
       "10      수서역R     서울특별시 강남구 광평로 281 (수서동) 1522-3232   37.488008   127.102650   \n",
       "11   양재강남빌딩R  서울특별시 강남구 남부순환로 2621 (도곡동) 1522-3232   37.485192   127.036685   \n",
       "12   선릉동신빌딩R    서울특별시 강남구 테헤란로 409 (삼성동) 1522-3232   37.505321   127.050409   \n",
       "13   봉은사로선정릉    서울특별시 강남구 봉은사로 446 (삼성동) 1522-3232   37.511293   127.048409   \n",
       "14     강남오거리   서울특별시 강남구 봉은사로2길 39 (역삼동) 1522-3232   37.502117   127.026672   \n",
       "\n",
       "         Type  \n",
       "0   리저브 매장 2번  \n",
       "1   리저브 매장 2번  \n",
       "2   리저브 매장 2번  \n",
       "3   리저브 매장 2번  \n",
       "4   리저브 매장 2번  \n",
       "5   리저브 매장 2번  \n",
       "6   리저브 매장 2번  \n",
       "7   리저브 매장 2번  \n",
       "8   리저브 매장 2번  \n",
       "9   리저브 매장 2번  \n",
       "10  리저브 매장 2번  \n",
       "11  리저브 매장 2번  \n",
       "12  리저브 매장 2번  \n",
       "13  리저브 매장 2번  \n",
       "14  리저브 매장 2번  "
      ]
     },
     "execution_count": 135,
     "metadata": {},
     "output_type": "execute_result"
    }
   ],
   "source": [
    "# Dataframe으로 만들기\n",
    "pd.DataFrame(stores, columns=['Store', 'Address', 'Latitude', 'Longitude', 'Type']).head(15)"
   ]
  },
  {
   "cell_type": "code",
   "execution_count": 140,
   "metadata": {},
   "outputs": [],
   "source": [
    "# 브라우저 끄기\n",
    "browser.quit()"
   ]
  }
 ],
 "metadata": {
  "kernelspec": {
   "display_name": "Python 3.8.3 32-bit",
   "language": "python",
   "name": "python38332bitabebdcd8e2a1488c90932336e3af1b49"
  },
  "language_info": {
   "codemirror_mode": {
    "name": "ipython",
    "version": 3
   },
   "file_extension": ".py",
   "mimetype": "text/x-python",
   "name": "python",
   "nbconvert_exporter": "python",
   "pygments_lexer": "ipython3",
   "version": "3.8.3"
  }
 },
 "nbformat": 4,
 "nbformat_minor": 4
}
