{
 "cells": [
  {
   "cell_type": "markdown",
   "metadata": {},
   "source": [
    "# GitHub Scraping\n",
    "Github의 DS_webscraping 페이지의 파일 목록을 가져와서 excel로 만들기"
   ]
  },
  {
   "cell_type": "code",
   "execution_count": 2,
   "metadata": {},
   "outputs": [],
   "source": [
    "from selenium import webdriver\n",
    "from bs4 import BeautifulSoup as BS\n",
    "import pandas as pd"
   ]
  },
  {
   "cell_type": "code",
   "execution_count": 3,
   "metadata": {},
   "outputs": [],
   "source": [
    "browser = webdriver.Chrome()\n",
    "browser.get('http://github.com/login')"
   ]
  },
  {
   "cell_type": "code",
   "execution_count": 4,
   "metadata": {},
   "outputs": [],
   "source": [
    "# Username 입력\n",
    "browser.find_element_by_name('login').send_keys('BreadFeet')"
   ]
  },
  {
   "cell_type": "code",
   "execution_count": 8,
   "metadata": {},
   "outputs": [],
   "source": [
    "# Password 입력 - click\n",
    "browser.find_element_by_name('password').send_keys('dkssudghdlt0!')\n",
    "browser.find_element_by_name('commit').click()"
   ]
  },
  {
   "cell_type": "code",
   "execution_count": 12,
   "metadata": {},
   "outputs": [],
   "source": [
    "# DS_webscraping 메뉴 click\n",
    "browser.find_element_by_css_selector('span[title=\"DS_webscraping\"]').click()"
   ]
  },
  {
   "cell_type": "code",
   "execution_count": 34,
   "metadata": {},
   "outputs": [],
   "source": [
    "# DS_webscraping 목록 페이지 html 가져오기\n",
    "page = browser.page_source\n",
    "soup = BS(page, 'html.parser')"
   ]
  },
  {
   "cell_type": "code",
   "execution_count": 33,
   "metadata": {},
   "outputs": [
    {
     "data": {
      "text/plain": [
       "<div class=\"Box-row Box-row--focus-gray py-2 d-flex position-relative js-navigation-item\" role=\"row\">\n",
       "<div class=\"mr-3 flex-shrink-0\" role=\"gridcell\" style=\"width: 16px;\">\n",
       "<svg aria-hidden=\"true\" aria-label=\"Directory\" class=\"octicon octicon-file-directory hx_color-icon-directory\" data-view-component=\"true\" height=\"16\" version=\"1.1\" viewbox=\"0 0 16 16\" width=\"16\">\n",
       "<path d=\"M1.75 1A1.75 1.75 0 000 2.75v10.5C0 14.216.784 15 1.75 15h12.5A1.75 1.75 0 0016 13.25v-8.5A1.75 1.75 0 0014.25 3h-6.5a.25.25 0 01-.2-.1l-.9-1.2c-.33-.44-.85-.7-1.4-.7h-3.5z\" fill-rule=\"evenodd\"></path>\n",
       "</svg>\n",
       "</div>\n",
       "<div class=\"flex-auto min-width-0 col-md-2 mr-3\" role=\"rowheader\">\n",
       "<span class=\"css-truncate css-truncate-target d-block width-fit\"><a class=\"js-navigation-open Link--primary\" data-pjax=\"#repo-content-pjax-container\" href=\"/BreadFeet/DS_webscraping/tree/master/files\" title=\"files\">files</a></span>\n",
       "</div>\n",
       "<div class=\"flex-auto min-width-0 d-none d-md-block col-5 mr-3\" role=\"gridcell\">\n",
       "<span class=\"css-truncate css-truncate-target d-block width-fit markdown-title\">\n",
       "<a class=\"Link--secondary\" data-pjax=\"true\" href=\"/BreadFeet/DS_webscraping/commit/daf0e69142d72f445ecab52662eb47dc8eeed93e\" title=\"Create _final file &amp; Update .gitignore\">Create _final file &amp; Update .gitignore</a>\n",
       "</span>\n",
       "</div>\n",
       "<div class=\"color-text-tertiary text-right\" role=\"gridcell\" style=\"width:100px;\">\n",
       "<time-ago class=\"no-wrap\" data-view-component=\"true\" datetime=\"2021-06-24T21:03:39Z\" title=\"Jun 25, 2021, 6:03 AM GMT+9\">4 days ago</time-ago>\n",
       "</div>\n",
       "</div>"
      ]
     },
     "execution_count": 33,
     "metadata": {},
     "output_type": "execute_result"
    }
   ],
   "source": [
    "# 파일/폴더명, commit message, commit date를 모두 포함하는 태그 찾아서 불러옴\n",
    "tags = soup.select('.Box-row.js-navigation-item')\n",
    "tags[0]"
   ]
  },
  {
   "cell_type": "code",
   "execution_count": 20,
   "metadata": {},
   "outputs": [
    {
     "data": {
      "text/plain": [
       "[['files', 'Create _final file & Update .gitignore', '4 days ago'],\n",
       " ['storage', 'Create _final file & Update .gitignore', '4 days ago'],\n",
       " ['.gitignore', 'Create _final file & Update .gitignore', '4 days ago']]"
      ]
     },
     "execution_count": 20,
     "metadata": {},
     "output_type": "execute_result"
    }
   ],
   "source": [
    "# for loop으로 파일/폴더명, commit message, commit date을 각각 뽑아내기\n",
    "table = []\n",
    "\n",
    "for tag in tags:\n",
    "    file = tag.select_one('div[role=\"rowheader\"]').text.strip()\n",
    "    msg = tag.select_one('.Link--secondary').text\n",
    "    date = tag.select_one('time-ago').text\n",
    "    table.append([file, msg, date])\n",
    "\n",
    "table[:3]"
   ]
  },
  {
   "cell_type": "code",
   "execution_count": 24,
   "metadata": {},
   "outputs": [
    {
     "data": {
      "text/html": [
       "<div>\n",
       "<style scoped>\n",
       "    .dataframe tbody tr th:only-of-type {\n",
       "        vertical-align: middle;\n",
       "    }\n",
       "\n",
       "    .dataframe tbody tr th {\n",
       "        vertical-align: top;\n",
       "    }\n",
       "\n",
       "    .dataframe thead th {\n",
       "        text-align: right;\n",
       "    }\n",
       "</style>\n",
       "<table border=\"1\" class=\"dataframe\">\n",
       "  <thead>\n",
       "    <tr style=\"text-align: right;\">\n",
       "      <th></th>\n",
       "      <th>Name</th>\n",
       "      <th>Message</th>\n",
       "      <th>Date</th>\n",
       "    </tr>\n",
       "  </thead>\n",
       "  <tbody>\n",
       "    <tr>\n",
       "      <th>0</th>\n",
       "      <td>files</td>\n",
       "      <td>Create _final file &amp; Update .gitignore</td>\n",
       "      <td>4 days ago</td>\n",
       "    </tr>\n",
       "    <tr>\n",
       "      <th>1</th>\n",
       "      <td>storage</td>\n",
       "      <td>Create _final file &amp; Update .gitignore</td>\n",
       "      <td>4 days ago</td>\n",
       "    </tr>\n",
       "    <tr>\n",
       "      <th>2</th>\n",
       "      <td>.gitignore</td>\n",
       "      <td>Create _final file &amp; Update .gitignore</td>\n",
       "      <td>4 days ago</td>\n",
       "    </tr>\n",
       "    <tr>\n",
       "      <th>3</th>\n",
       "      <td>Day27_01_tag_object_final.ipynb</td>\n",
       "      <td>Rename files for sorting</td>\n",
       "      <td>3 hours ago</td>\n",
       "    </tr>\n",
       "    <tr>\n",
       "      <th>4</th>\n",
       "      <td>Day27_02_news_scraping_final.ipynb</td>\n",
       "      <td>Rename files for sorting</td>\n",
       "      <td>3 hours ago</td>\n",
       "    </tr>\n",
       "  </tbody>\n",
       "</table>\n",
       "</div>"
      ],
      "text/plain": [
       "                                 Name                                 Message  \\\n",
       "0                               files  Create _final file & Update .gitignore   \n",
       "1                             storage  Create _final file & Update .gitignore   \n",
       "2                          .gitignore  Create _final file & Update .gitignore   \n",
       "3     Day27_01_tag_object_final.ipynb                Rename files for sorting   \n",
       "4  Day27_02_news_scraping_final.ipynb                Rename files for sorting   \n",
       "\n",
       "          Date  \n",
       "0   4 days ago  \n",
       "1   4 days ago  \n",
       "2   4 days ago  \n",
       "3  3 hours ago  \n",
       "4  3 hours ago  "
      ]
     },
     "execution_count": 24,
     "metadata": {},
     "output_type": "execute_result"
    }
   ],
   "source": [
    "# Dataframe으로 만들기\n",
    "gh = pd.DataFrame(table, columns=['Name', 'Message', 'Date'])\n",
    "gh.head()"
   ]
  },
  {
   "cell_type": "code",
   "execution_count": 30,
   "metadata": {},
   "outputs": [
    {
     "name": "stdout",
     "output_type": "stream",
     "text": [
      "Dataframe saved to excel-----------------------------\n"
     ]
    }
   ],
   "source": [
    "# Excel 파일로 내보내기\n",
    "gh.to_excel('./storage/github.xlsx', header=True, index=False)\n",
    "print('Dataframe saved to excel-----------------------------')"
   ]
  },
  {
   "cell_type": "code",
   "execution_count": 32,
   "metadata": {
    "scrolled": false
   },
   "outputs": [
    {
     "data": {
      "text/html": [
       "<div>\n",
       "<style scoped>\n",
       "    .dataframe tbody tr th:only-of-type {\n",
       "        vertical-align: middle;\n",
       "    }\n",
       "\n",
       "    .dataframe tbody tr th {\n",
       "        vertical-align: top;\n",
       "    }\n",
       "\n",
       "    .dataframe thead th {\n",
       "        text-align: right;\n",
       "    }\n",
       "</style>\n",
       "<table border=\"1\" class=\"dataframe\">\n",
       "  <thead>\n",
       "    <tr style=\"text-align: right;\">\n",
       "      <th></th>\n",
       "      <th>Name</th>\n",
       "      <th>Message</th>\n",
       "      <th>Date</th>\n",
       "    </tr>\n",
       "  </thead>\n",
       "  <tbody>\n",
       "    <tr>\n",
       "      <th>0</th>\n",
       "      <td>files</td>\n",
       "      <td>Create _final file &amp; Update .gitignore</td>\n",
       "      <td>4 days ago</td>\n",
       "    </tr>\n",
       "    <tr>\n",
       "      <th>1</th>\n",
       "      <td>storage</td>\n",
       "      <td>Create _final file &amp; Update .gitignore</td>\n",
       "      <td>4 days ago</td>\n",
       "    </tr>\n",
       "    <tr>\n",
       "      <th>2</th>\n",
       "      <td>.gitignore</td>\n",
       "      <td>Create _final file &amp; Update .gitignore</td>\n",
       "      <td>4 days ago</td>\n",
       "    </tr>\n",
       "    <tr>\n",
       "      <th>3</th>\n",
       "      <td>Day27_01_tag_object_final.ipynb</td>\n",
       "      <td>Rename files for sorting</td>\n",
       "      <td>3 hours ago</td>\n",
       "    </tr>\n",
       "    <tr>\n",
       "      <th>4</th>\n",
       "      <td>Day27_02_news_scraping_final.ipynb</td>\n",
       "      <td>Rename files for sorting</td>\n",
       "      <td>3 hours ago</td>\n",
       "    </tr>\n",
       "  </tbody>\n",
       "</table>\n",
       "</div>"
      ],
      "text/plain": [
       "                                 Name                                 Message  \\\n",
       "0                               files  Create _final file & Update .gitignore   \n",
       "1                             storage  Create _final file & Update .gitignore   \n",
       "2                          .gitignore  Create _final file & Update .gitignore   \n",
       "3     Day27_01_tag_object_final.ipynb                Rename files for sorting   \n",
       "4  Day27_02_news_scraping_final.ipynb                Rename files for sorting   \n",
       "\n",
       "          Date  \n",
       "0   4 days ago  \n",
       "1   4 days ago  \n",
       "2   4 days ago  \n",
       "3  3 hours ago  \n",
       "4  3 hours ago  "
      ]
     },
     "execution_count": 32,
     "metadata": {},
     "output_type": "execute_result"
    }
   ],
   "source": [
    "# Excel에서 dataframe 불러오기\n",
    "pd.read_excel('./storage/github.xlsx', header=0).head()"
   ]
  }
 ],
 "metadata": {
  "kernelspec": {
   "display_name": "Python 3.8.3 32-bit",
   "language": "python",
   "name": "python38332bitabebdcd8e2a1488c90932336e3af1b49"
  },
  "language_info": {
   "codemirror_mode": {
    "name": "ipython",
    "version": 3
   },
   "file_extension": ".py",
   "mimetype": "text/x-python",
   "name": "python",
   "nbconvert_exporter": "python",
   "pygments_lexer": "ipython3",
   "version": "3.8.3"
  }
 },
 "nbformat": 4,
 "nbformat_minor": 4
}
